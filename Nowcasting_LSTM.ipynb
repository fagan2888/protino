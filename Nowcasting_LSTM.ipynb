{
 "cells": [
  {
   "cell_type": "markdown",
   "metadata": {},
   "source": [
    "# Nowcasting LSTM Implementation\n",
    "\n",
    "Long short-term memory (LSTM) units are units of a recurrent neural network (RNN). An RNN composed of LSTM units is often called an LSTM network. A common LSTM unit is composed of a cell, an input gate, an output gate and a forget gate. The cell remembers values over arbitrary time intervals and the three gates regulate the flow of information into and out of the cell. \n",
    "LSTM networks are well-suited to classifying, processing and making predictions based on time series data, since there can be lags of unknown duration between important events in a time series. LSTMs were developed to deal with the exploding and vanishing gradient problems that can be encountered when training traditional RNNs. Relative insensitivity to gap length is an advantage of LSTM over RNNs, hidden Markov models and other sequence learning methods in numerous applications\n",
    "\n",
    "## Nowcasting \n",
    "\n",
    "Now casting is a technique in which the probability of occurrence of large magnitude earthquakes is found by computing the cumulative distribution of small earthquakes that occur between large magnitude earthquakes. To compute this cumulative distribution, the number of small earthquakes are tabulated to find the probability distribution function and subsequently cumulative distribution function is found. Once, we have this cumulative distribution, we can use it to find, what is the probability that large earthquake will occur next."
   ]
  },
  {
   "cell_type": "markdown",
   "metadata": {},
   "source": [
    "# Importing libraries and settings"
   ]
  },
  {
   "cell_type": "code",
   "execution_count": 1,
   "metadata": {},
   "outputs": [
    {
     "name": "stderr",
     "output_type": "stream",
     "text": [
      "Using TensorFlow backend.\n"
     ]
    }
   ],
   "source": [
    "import pandas as pd\n",
    "import numpy as np\n",
    "import datetime\n",
    "from datetime import datetime, date\n",
    "import math\n",
    "from sklearn.utils import resample\n",
    "import matplotlib.pyplot as plt\n",
    "from keras.models import Sequential\n",
    "from keras.layers import Dense\n",
    "from keras.layers import LSTM\n",
    "from keras.layers import Reshape\n",
    "from sklearn.preprocessing import MinMaxScaler\n",
    "from sklearn.metrics import mean_squared_error\n",
    "from sklearn.model_selection import train_test_split\n",
    "import tensorflow as tf\n",
    "RANDOM_SEED = 42\n",
    "tf.set_random_seed(RANDOM_SEED)"
   ]
  },
  {
   "cell_type": "markdown",
   "metadata": {},
   "source": [
    "## Function to get dataset\n",
    "\n",
    "Data is obtained from United States Geological Survey [1], the latitude range for the earthquake occurences is 20°S and 40°S and longitude range is 70°E to 105°E\n",
    "<img src=\"./dataset.png\">"
   ]
  },
  {
   "cell_type": "code",
   "execution_count": 6,
   "metadata": {},
   "outputs": [],
   "source": [
    "def get_dataset():\n",
    "    # read data from csv file\n",
    "    data = pd.read_csv(\"./query_large.csv\", sep=\",\")\n",
    "    \n",
    "    # use data after 1973, because before 1973 only above 5 mag earthquake were recorded\n",
    "    data = data[296:]\n",
    "    \n",
    "    data = data.iloc[::-1]\n",
    "    print('Raw Data: first 20 rows')\n",
    "    print(data.head(30))\n",
    "    X = np.array(data[\"mag\"])\n",
    "    \n",
    "    #get first magnitude 5 earthquake, and start from there\n",
    "    for i in range(len(X)):\n",
    "        if X[i] >= 5:\n",
    "            X = X[i+1:]\n",
    "            break\n",
    "    \n",
    "    \n",
    "    count = 0\n",
    "    ans = []\n",
    "    \n",
    "    #get count of small earthquakes between two large earthquakes\n",
    "    for i in range(len(X)):\n",
    "        if X[i] < 5:\n",
    "            count = count + 1\n",
    "        else:\n",
    "            ans.append(count)\n",
    "            count = 0\n",
    "     \n",
    "    data_f = pd.DataFrame(data = ans, columns = ['timeSinceLast'])\n",
    "    return data_f"
   ]
  },
  {
   "cell_type": "code",
   "execution_count": 7,
   "metadata": {
    "scrolled": false
   },
   "outputs": [
    {
     "name": "stdout",
     "output_type": "stream",
     "text": [
      "Raw Data: first 20 rows\n",
      "                           time  latitude  longitude   depth  mag magType  \\\n",
      "19158  2018-04-11T00:59:46.580Z   36.5595    71.3211  235.61  4.2      mb   \n",
      "19157  2018-04-10T14:14:20.750Z   24.1268    82.5576   10.00  4.6      mb   \n",
      "19156  2018-04-10T11:47:03.610Z   33.5112    73.4652   30.92  3.6      mb   \n",
      "19155  2018-04-09T00:35:19.060Z   37.1200    71.2586  109.70  4.3      mb   \n",
      "19154  2018-04-08T17:40:09.410Z   22.5859    96.0631   10.00  4.5      mb   \n",
      "19153  2018-04-08T06:01:18.200Z   36.4910    71.1513  107.92  4.2      mb   \n",
      "19152  2018-04-07T14:41:57.680Z   37.3343    72.2373  226.05  4.6      mb   \n",
      "19151  2018-04-04T15:21:23.390Z   24.8474    95.3484  126.09  4.6      mb   \n",
      "19150  2018-04-04T02:35:41.880Z   37.5062    72.1920  191.20  4.2      mb   \n",
      "19149  2018-04-03T16:59:30.030Z   29.8972    95.0012   25.59  4.1      mb   \n",
      "19148  2018-04-02T15:00:19.030Z   37.3024    71.8571  149.53  4.1      mb   \n",
      "19147  2018-04-02T11:42:10.790Z   26.4555    96.9769   10.00  4.9      mb   \n",
      "19146  2018-04-01T13:10:11.970Z   25.7467   103.3850   10.00  4.1      mb   \n",
      "19145  2018-03-31T19:35:50.700Z   36.6257    70.8881  216.97  4.2      mb   \n",
      "19144  2018-03-31T09:26:33.690Z   33.0196    90.4046   10.00  4.2      mb   \n",
      "19143  2018-03-30T22:33:27.350Z   22.1644    92.8036   32.09  4.1      mb   \n",
      "19142  2018-03-30T18:45:16.670Z   36.4578    71.1339  238.69  5.0     mww   \n",
      "19141  2018-03-30T14:53:43.400Z   37.3659    71.9012  146.97  4.1      mb   \n",
      "19140  2018-03-30T12:52:56.620Z   36.4676    71.0680  137.89  4.3      mb   \n",
      "19139  2018-03-29T18:22:52.770Z   36.5467    70.9196  195.70  4.0      mb   \n",
      "19138  2018-03-28T22:33:09.600Z   23.2663    70.4272   22.85  4.2      mb   \n",
      "19137  2018-03-24T22:17:50.400Z   36.4753    70.6540  200.63  5.1     mww   \n",
      "19136  2018-03-24T18:41:29.140Z   21.7769    94.8224  117.98  4.2      mb   \n",
      "19135  2018-03-20T21:23:19.330Z   32.4909    83.5256   35.49  4.4      mb   \n",
      "19134  2018-03-17T19:31:04.780Z   28.0952   104.6884   31.79  4.2      mb   \n",
      "19133  2018-03-15T16:58:20.610Z   23.6408    94.7295  107.15  4.3      mb   \n",
      "19132  2018-03-15T14:53:25.930Z   33.1866    76.0862   43.92  4.6      mb   \n",
      "19131  2018-03-15T02:26:05.480Z   24.4652    93.5783   48.82  4.3      mb   \n",
      "19130  2018-03-12T06:33:16.230Z   38.3446    74.9053  140.34  4.2      mb   \n",
      "19129  2018-03-10T20:53:54.150Z   37.2333    71.3290   92.40  4.1      mb   \n",
      "\n",
      "       nst    gap    dmin   rms    ...                      updated  \\\n",
      "19158  NaN   84.0   1.005  0.72    ...     2018-04-11T03:38:39.040Z   \n",
      "19157  NaN   85.0   5.403  0.82    ...     2018-04-11T10:52:51.945Z   \n",
      "19156  NaN  175.0   0.215  0.53    ...     2018-04-10T21:23:48.054Z   \n",
      "19155  NaN  116.0   0.519  1.19    ...     2018-04-09T00:57:42.040Z   \n",
      "19154  NaN   96.0   0.568  0.68    ...     2018-04-10T07:35:17.075Z   \n",
      "19153  NaN  112.0   0.783  0.68    ...     2018-04-08T06:31:34.040Z   \n",
      "19152  NaN   45.0   0.499  0.64    ...     2018-04-10T11:58:29.225Z   \n",
      "19151  NaN   59.0   1.135  0.87    ...     2018-04-08T18:14:25.551Z   \n",
      "19150  NaN   62.0   0.423  0.65    ...     2018-04-04T03:46:35.040Z   \n",
      "19149  NaN  114.0   3.372  0.41    ...     2018-04-11T18:57:09.040Z   \n",
      "19148  NaN   86.0   0.276  0.54    ...     2018-04-10T20:38:01.040Z   \n",
      "19147  NaN   64.0   3.282  0.98    ...     2018-04-02T12:16:57.040Z   \n",
      "19146  NaN  127.0   4.427  0.48    ...     2018-04-09T20:11:23.040Z   \n",
      "19145  NaN   70.0   0.558  0.49    ...     2018-04-01T03:43:46.040Z   \n",
      "19144  NaN   95.0   5.920  0.58    ...     2018-03-31T09:53:37.040Z   \n",
      "19143  NaN  158.0   0.876  0.61    ...     2018-04-08T04:13:52.040Z   \n",
      "19142  NaN   20.0   0.802  0.92    ...     2018-03-31T04:17:04.389Z   \n",
      "19141  NaN   78.0   0.252  0.61    ...     2018-04-07T06:41:02.040Z   \n",
      "19140  NaN   77.0   0.766  0.97    ...     2018-03-30T20:55:42.772Z   \n",
      "19139  NaN   74.0   0.640  0.90    ...     2018-04-03T16:33:12.040Z   \n",
      "19138  NaN  129.0  10.643  1.19    ...     2018-03-30T02:45:51.087Z   \n",
      "19137  NaN   26.0   0.652  0.78    ...     2018-03-30T19:03:53.845Z   \n",
      "19136  NaN   81.0   1.221  0.85    ...     2018-03-25T13:30:42.040Z   \n",
      "19135  NaN   83.0   5.337  0.71    ...     2018-03-20T21:46:50.040Z   \n",
      "19134  NaN   75.0   4.730  0.60    ...     2018-03-24T04:42:38.040Z   \n",
      "19133  NaN   76.0   0.705  0.75    ...     2018-03-16T13:57:21.040Z   \n",
      "19132  NaN  162.0   2.401  0.92    ...     2018-03-16T04:27:52.036Z   \n",
      "19131  NaN  122.0   0.699  0.46    ...     2018-03-18T14:54:10.408Z   \n",
      "19130  NaN   68.0   2.672  1.37    ...     2018-03-12T06:49:34.040Z   \n",
      "19129  NaN   78.0   0.396  0.54    ...     2018-03-18T21:11:15.040Z   \n",
      "\n",
      "                                    place        type horizontalError  \\\n",
      "19158   23km SW of Ashkasham, Afghanistan  earthquake             6.4   \n",
      "19157         14km SW of Singrauli, India  earthquake             9.0   \n",
      "19156         11km SE of Kahuta, Pakistan  earthquake             7.6   \n",
      "19155        47km NE of Jarm, Afghanistan  earthquake             6.7   \n",
      "19154             37km E of Shwebo, Burma  earthquake             4.8   \n",
      "19153  40km WSW of Ashkasham, Afghanistan  earthquake             7.8   \n",
      "19152  37km ENE of Roshtqal'a, Tajikistan  earthquake             7.4   \n",
      "19151             124km SE of Phek, India  earthquake             7.9   \n",
      "19150   42km NE of Roshtqal'a, Tajikistan  earthquake             9.3   \n",
      "19149          69km NE of Nyingchi, China  earthquake             8.9   \n",
      "19148   5km NNE of Roshtqal'a, Tajikistan  earthquake             7.0   \n",
      "19147       126km NNW of Myitkyina, Burma  earthquake             7.9   \n",
      "19146            23km NNE of Rende, China  earthquake            11.0   \n",
      "19145         26km S of Jarm, Afghanistan  earthquake             6.9   \n",
      "19144          140km WNW of Pagnag, China  earthquake             6.2   \n",
      "19143            39km SSW of Saiha, India  earthquake             5.6   \n",
      "19142   43km SW of Ashkasham, Afghanistan  earthquake             6.2   \n",
      "19141  13km NNE of Roshtqal'a, Tajikistan  earthquake             8.3   \n",
      "19140  48km WSW of Ashkasham, Afghanistan  earthquake             6.2   \n",
      "19139       36km SSE of Jarm, Afghanistan  earthquake             8.0   \n",
      "19138           8km ESE of Bhachau, India  earthquake             9.8   \n",
      "19137       46km SSW of Jarm, Afghanistan  earthquake             5.7   \n",
      "19136            49km SW of Monywa, Burma  earthquake             7.3   \n",
      "19135           68km WNW of Luring, China  earthquake             9.7   \n",
      "19134          19km ESE of Junlian, China  earthquake             9.7   \n",
      "19133            31km E of Mawlaik, Burma  earthquake             5.8   \n",
      "19132         33km ESE of Kishtwar, India  earthquake             9.9   \n",
      "19131    17km NNW of Churachandpur, India  earthquake             8.5   \n",
      "19130     84km ENE of Murghob, Tajikistan  earthquake             7.6   \n",
      "19129      34km SW of Khorugh, Tajikistan  earthquake             6.7   \n",
      "\n",
      "      depthError  magError  magNst    status  locationSource magSource  \n",
      "19158       10.1     0.175     9.0  reviewed              us        us  \n",
      "19157        1.9     0.073    56.0  reviewed              us        us  \n",
      "19156       10.1     0.354     2.0  reviewed              us        us  \n",
      "19155        5.1     0.266     4.0  reviewed              us        us  \n",
      "19154        1.9     0.093    34.0  reviewed              us        us  \n",
      "19153        8.2     0.176     9.0  reviewed              us        us  \n",
      "19152        6.8     0.076    51.0  reviewed              us        us  \n",
      "19151        6.7     0.065    72.0  reviewed              us        us  \n",
      "19150        5.2     0.216     6.0  reviewed              us        us  \n",
      "19149        5.4     0.117    20.0  reviewed              us        us  \n",
      "19148        4.6     0.096    30.0  reviewed              us        us  \n",
      "19147        1.9     0.065    75.0  reviewed              us        us  \n",
      "19146        1.9     0.303     8.0  reviewed              us        us  \n",
      "19145        4.8     0.080    44.0  reviewed              us        us  \n",
      "19144        1.9     0.096    30.0  reviewed              us        us  \n",
      "19143        5.2     0.127    17.0  reviewed              us        us  \n",
      "19142        4.3     0.075    17.0  reviewed              us        us  \n",
      "19141        6.9     0.370     2.0  reviewed              us        us  \n",
      "19140        8.2     0.142    14.0  reviewed              us        us  \n",
      "19139        6.9     0.103    25.0  reviewed              us        us  \n",
      "19138        5.7     0.096    30.0  reviewed              us        us  \n",
      "19137        4.1     0.078    16.0  reviewed              us        us  \n",
      "19136        8.1     0.112    22.0  reviewed              us        us  \n",
      "19135        6.3     0.103    27.0  reviewed              us        us  \n",
      "19134        6.2     0.112    22.0  reviewed              us        us  \n",
      "19133        6.1     0.081    43.0  reviewed              us        us  \n",
      "19132        9.7     0.114    23.0  reviewed              us        us  \n",
      "19131        7.1     0.167    10.0  reviewed              us        us  \n",
      "19130       11.3     0.132    16.0  reviewed              us        us  \n",
      "19129        5.1     0.157    11.0  reviewed              us        us  \n",
      "\n",
      "[30 rows x 22 columns]\n"
     ]
    }
   ],
   "source": [
    "dataset = get_dataset()"
   ]
  },
  {
   "cell_type": "markdown",
   "metadata": {},
   "source": [
    "## Some preprocessing and separating to test and train"
   ]
  },
  {
   "cell_type": "code",
   "execution_count": 10,
   "metadata": {},
   "outputs": [
    {
     "name": "stdout",
     "output_type": "stream",
     "text": [
      "Length of traing and test dataset\n",
      "1289 635\n"
     ]
    }
   ],
   "source": [
    "scaler = MinMaxScaler(feature_range=(0, 1))\n",
    "dataset = scaler.fit_transform(dataset)\n",
    "\n",
    "train_size = int(len(dataset) * 0.67)\n",
    "test_size = len(dataset) - train_size\n",
    "train, test = dataset[0:train_size,:], dataset[train_size:len(dataset),:]\n",
    "print('Length of traing and test dataset')\n",
    "print(len(train), len(test))"
   ]
  },
  {
   "cell_type": "markdown",
   "metadata": {},
   "source": [
    "## Function to create inputs and outputs"
   ]
  },
  {
   "cell_type": "code",
   "execution_count": 11,
   "metadata": {},
   "outputs": [],
   "source": [
    "def create_dataset(dataset, look_back=1):\n",
    "\tdataX, dataY = [], []\n",
    "\tfor i in range(len(dataset)-look_back-1):\n",
    "\t\ta = dataset[i:(i+look_back), 0]\n",
    "\t\tdataX.append(a)\n",
    "\t\tdataY.append(dataset[i + look_back, 0])\n",
    "\treturn np.array(dataX), np.array(dataY)"
   ]
  },
  {
   "cell_type": "code",
   "execution_count": 21,
   "metadata": {},
   "outputs": [
    {
     "name": "stdout",
     "output_type": "stream",
     "text": [
      "training data shape:(1283, 1, 5)=> 1283 is the number of training samples and 1 is timestep and 5 is the number of lookbacks\n",
      "training data shape:(1283, 1, 5)=> 629 is the number of test samples and 1 is timestep and 5 is the number of lookbacks\n"
     ]
    }
   ],
   "source": [
    "look_back = 5\n",
    "time_steps = 1\n",
    "trainX, trainY = create_dataset(train, look_back)\n",
    "testX, testY = create_dataset(test, look_back)\n",
    "trainX = np.reshape(trainX, (trainX.shape[0], time_steps, trainX.shape[1]))\n",
    "testX = np.reshape(testX, (testX.shape[0] ,time_steps, testX.shape[1]))\n",
    "print('training data shape:' + str(trainX.shape) + '=> ' + str(trainX.shape[0]) + ' is the number of training samples and '+ str(trainX.shape[1]) + ' is timestep and '+ str(trainX.shape[2]) + ' is the number of lookbacks')\n",
    "print('training data shape:' + str(trainX.shape) + '=> ' + str(testX.shape[0]) + ' is the number of test samples and '+ str(testX.shape[1]) + ' is timestep and '+ str(testX.shape[2]) + ' is the number of lookbacks')"
   ]
  },
  {
   "cell_type": "code",
   "execution_count": 15,
   "metadata": {},
   "outputs": [
    {
     "name": "stdout",
     "output_type": "stream",
     "text": [
      "Train Score: 14.44 RMSE\n",
      "Test Score: 6.16 RMSE\n"
     ]
    }
   ],
   "source": [
    "model = Sequential()\n",
    "model.add(LSTM(64, input_shape=( 1,look_back )))\n",
    "\n",
    "\n",
    "model.add(Dense(1))\n",
    "model.compile(loss='mean_squared_error', optimizer='adam')\n",
    "model.fit(trainX, trainY, epochs=100, batch_size=5, verbose=None)\n",
    "\n",
    "trainPredict = model.predict(trainX)\n",
    "testPredict = model.predict(testX)\n",
    "\n",
    "newTrainY = trainY.reshape(-1)\n",
    "newTestY = testY.reshape(-1)\n",
    "# invert predictions\n",
    "trainPredict = scaler.inverse_transform(trainPredict)\n",
    "newTrainY = scaler.inverse_transform([newTrainY])\n",
    "testPredict = scaler.inverse_transform(testPredict)\n",
    "newTestY = scaler.inverse_transform([newTestY])\n",
    "# calculate root mean squared error\n",
    "trainScore = math.sqrt(mean_squared_error(newTrainY[0], trainPredict[:,0]))\n",
    "print('Train Score: %.2f RMSE' % (trainScore))\n",
    "testScore = math.sqrt(mean_squared_error(newTestY[0], testPredict[:,0]))\n",
    "print('Test Score: %.2f RMSE' % (testScore))"
   ]
  },
  {
   "cell_type": "code",
   "execution_count": 16,
   "metadata": {},
   "outputs": [
    {
     "data": {
      "image/png": "[encoded data removed]",
      "text/plain": [
       "<Figure size 432x288 with 1 Axes>"
      ]
     },
     "metadata": {},
     "output_type": "display_data"
    }
   ],
   "source": [
    "\n",
    "trainPredictPlot = np.empty_like(dataset)\n",
    "trainPredictPlot[:, :] = np.nan\n",
    "\n",
    "trainPredictPlot[look_back:len(trainPredict)+look_back, :] = trainPredict\n",
    "# shift test predictions for plotting\n",
    "testPredictPlot = np.empty_like(dataset)\n",
    "testPredictPlot[:, :] = np.nan\n",
    "testPredictPlot[len(trainPredict)+(look_back*2)+1:len(dataset)-1, :] = testPredict\n",
    "# plot baseline and predictions\n",
    "plt.plot(scaler.inverse_transform(dataset), label = 'original dataset')\n",
    "plt.plot(trainPredictPlot, label = 'training predictions')\n",
    "plt.plot(testPredictPlot, label = 'testing predictions')\n",
    "plt.legend()\n",
    "plt.savefig('fig7',dpi=1024)\n",
    "plt.show()"
   ]
  }
 ],
 "metadata": {
  "kernelspec": {
   "display_name": "Python 3",
   "language": "python",
   "name": "python3"
  },
  "language_info": {
   "codemirror_mode": {
    "name": "ipython",
    "version": 3
   },
   "file_extension": ".py",
   "mimetype": "text/x-python",
   "name": "python",
   "nbconvert_exporter": "python",
   "pygments_lexer": "ipython3",
   "version": "3.5.2"
  }
 },
 "nbformat": 4,
 "nbformat_minor": 2
}
